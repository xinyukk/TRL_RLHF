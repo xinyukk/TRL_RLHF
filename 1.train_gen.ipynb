{
 "cells": [
  {
   "cell_type": "code",
   "execution_count": 4,
   "id": "7cdb3b0f",
   "metadata": {},
   "outputs": [
    {
     "data": {
      "text/plain": [
       "['S__:8528=erqqtrqqtrqqtrqqwE',\n",
       " 'S__:9729=叁捌玖壹玖捌玖壹玖捌玖壹玖捌玖壹陆E',\n",
       " 'S__:3862=qtrrotrrotrrotrriE',\n",
       " 'S__:1179=ruqyruqyruqyruqyEP',\n",
       " 'S__:7430=二九七二二九七二二九七二二九七二〇E',\n",
       " 'S__:3593=壹肆叁柒叁肆叁柒叁肆叁柒叁肆叁柒贰E',\n",
       " 'S__:8903=etyqttyqttyqttyqwE',\n",
       " 'S__:2507=一〇〇二九〇〇二九〇〇二九〇〇二八E',\n",
       " 'S__:3149=12597259725972596E',\n",
       " 'S__:8186=ewuruwuruwuruwurrE']"
      ]
     },
     "execution_count": 4,
     "metadata": {},
     "output_type": "execute_result"
    }
   ],
   "source": [
    "%run common.ipynb\n",
    "\n",
    "[tokenizer.decode(i) for i in tokenizer.get_batch_data(prefix=False)[1]][:10]"
   ]
  },
  {
   "cell_type": "code",
   "execution_count": 5,
   "id": "5e45b488",
   "metadata": {
    "scrolled": true
   },
   "outputs": [],
   "source": [
    "model_gen = ModelGEN()"
   ]
  },
  {
   "cell_type": "code",
   "execution_count": 6,
   "id": "fbf00a68",
   "metadata": {
    "scrolled": false
   },
   "outputs": [
    {
     "name": "stdout",
     "output_type": "stream",
     "text": [
      "0\n",
      "S__:7506=3六三59qU大8U陆五写=9字7零大3U伍U伍一\n",
      "S__:1381=零4y三8EPPPPPPPPPPPPPPPPPPP\n",
      "1000\n",
      "S__:2723=42833283328332832E\n",
      "S__:2964=玖壹陆柒玖=陆柒玖4陆柒玖壹陆柒陆E\n",
      "2000\n",
      "S__:7958=31635一63516351632E\n",
      "S__:7124=28579857985798576E\n",
      "3000\n",
      "S__:5878=二三五一四三五一四三五一四三五一二E\n",
      "S__:1526=6144614461446144EP\n",
      "4000\n",
      "S__:7049=wiqoiiqoiiqoiiqoyE\n",
      "S__:8929=356U9566956695668E\n",
      "5000\n",
      "S__:3422=q叁陆捌玖叁陆捌玖叁陆捌玖叁陆捌捌E\n",
      "S__:4786=19145914591459144E\n",
      "6000\n",
      "S__:5609=22438243824382436E\n",
      "S__:6564=贰陆贰伍捌陆贰伍捌陆贰伍捌陆贰伍陆E\n",
      "7000\n",
      "S__:8464=三三八五九三八五九三八五九三八五六E\n",
      "S__:6687=26750675067506748E\n",
      "8000\n",
      "S__:3129=一二五一七二五一七二五一七二五一六E\n",
      "S__:7479=贰玖玖壹捌玖玖壹捌玖玖壹捌玖玖壹陆E\n",
      "9000\n",
      "S__:9479=euoqouoqouoqouoqyE\n",
      "S__:3997=一五九八九五九八九五九八九五九八八E\n",
      "10000\n",
      "S__:5273=wqporqporqporqpowE\n",
      "S__:8547=34191419141914188E\n",
      "11000\n",
      "S__:7811=叁壹贰伍壹壹贰伍壹壹贰伍壹壹贰肆肆E\n",
      "S__:3476=一三九〇五三九〇五三九〇五三九〇四E\n",
      "12000\n",
      "S__:1228=roqwroqwroqwroqwEP\n",
      "S__:3420=qeyiqeyiqeyiqeyipE\n",
      "13000\n",
      "S__:4885=qotrqotrqotrqotrpE\n",
      "S__:6349=25398539853985396E\n",
      "14000\n",
      "S__:4194=16777677767776776E\n",
      "S__:2228=八九一二八九一二八九一二八九一二EP\n"
     ]
    }
   ],
   "source": [
    "optimizer = torch.optim.AdamW(model_gen.parameters(), lr=1e-4)\n",
    "criterion = torch.nn.CrossEntropyLoss(ignore_index=tokenizer.encoder['P'])\n",
    "\n",
    "for epoch in range(15000):\n",
    "    _, input_ids, attention_mask = tokenizer.get_batch_data(prefix=False)\n",
    "    input_ids = torch.LongTensor(input_ids).to(device)\n",
    "    attention_mask = torch.LongTensor(attention_mask).to(device)\n",
    "\n",
    "    logits = model_gen(input_ids=input_ids, attention_mask=attention_mask)\n",
    "\n",
    "    loss = criterion(logits[:, :-1].flatten(end_dim=1),\n",
    "                     input_ids[:, 1:].flatten())\n",
    "\n",
    "    loss.backward()\n",
    "    optimizer.step()\n",
    "    optimizer.zero_grad()\n",
    "\n",
    "    if epoch % 1000 == 0:\n",
    "        print(epoch)\n",
    "        for i in generate(model_gen, input_ids[:2, :9]):\n",
    "            print(tokenizer.decode(i.tolist()))\n",
    "\n",
    "model_gen.to('cuda')\n",
    "torch.save(model_gen, 'gen.model')"
   ]
  }
 ],
 "metadata": {
  "kernelspec": {
   "display_name": "base",
   "language": "python",
   "name": "python3"
  },
  "language_info": {
   "codemirror_mode": {
    "name": "ipython",
    "version": 3
   },
   "file_extension": ".py",
   "mimetype": "text/x-python",
   "name": "python",
   "nbconvert_exporter": "python",
   "pygments_lexer": "ipython3",
   "version": "3.10.8"
  }
 },
 "nbformat": 4,
 "nbformat_minor": 5
}
