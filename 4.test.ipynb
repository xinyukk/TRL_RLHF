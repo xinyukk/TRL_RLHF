{
 "cells": [
  {
   "cell_type": "code",
   "execution_count": 1,
   "id": "1f242922",
   "metadata": {},
   "outputs": [
    {
     "data": {
      "text/plain": [
       "['S字母:3393=qetueetueetueetuwE',\n",
       " 'S大写:3286=壹叁壹肆伍叁壹肆伍叁壹肆伍叁壹肆肆E',\n",
       " 'S小写:8046=三二一八七二一八七二一八七二一八四E',\n",
       " 'S数字:1599=6396639663966396EP',\n",
       " 'S大写:3849=壹伍叁玖柒伍叁玖柒伍叁玖柒伍叁玖陆E',\n",
       " 'S字母:1417=tyyityyityyityyiEP',\n",
       " 'S小写:2652=一〇六〇九〇六〇九〇六〇九〇六〇八E',\n",
       " 'S数字:2587=10349034903490348E',\n",
       " 'S大写:1158=肆陆叁贰肆陆叁贰肆陆叁贰肆陆叁贰EP',\n",
       " 'S字母:1661=yyrryyrryyrryyrrEP']"
      ]
     },
     "execution_count": 1,
     "metadata": {},
     "output_type": "execute_result"
    }
   ],
   "source": [
    "%run common.ipynb\n",
    "\n",
    "[tokenizer.decode(i) for i in tokenizer.get_batch_data(prefix=True)[1]][:10]"
   ]
  },
  {
   "cell_type": "code",
   "execution_count": 2,
   "id": "972f2d2e",
   "metadata": {},
   "outputs": [
    {
     "data": {
      "text/plain": [
       "ModelPPO(\n",
       "  (model_gen): ModelGEN(\n",
       "    (feature): GPT2Model(\n",
       "      (wte): Embedding(53, 64)\n",
       "      (wpe): Embedding(128, 64)\n",
       "      (drop): Dropout(p=0.1, inplace=False)\n",
       "      (h): ModuleList(\n",
       "        (0-3): 4 x GPT2Block(\n",
       "          (ln_1): LayerNorm((64,), eps=1e-05, elementwise_affine=True)\n",
       "          (attn): GPT2Attention(\n",
       "            (c_attn): Conv1D()\n",
       "            (c_proj): Conv1D()\n",
       "            (attn_dropout): Dropout(p=0.1, inplace=False)\n",
       "            (resid_dropout): Dropout(p=0.1, inplace=False)\n",
       "          )\n",
       "          (ln_2): LayerNorm((64,), eps=1e-05, elementwise_affine=True)\n",
       "          (mlp): GPT2MLP(\n",
       "            (c_fc): Conv1D()\n",
       "            (c_proj): Conv1D()\n",
       "            (act): NewGELUActivation()\n",
       "            (dropout): Dropout(p=0.1, inplace=False)\n",
       "          )\n",
       "        )\n",
       "      )\n",
       "      (ln_f): LayerNorm((64,), eps=1e-05, elementwise_affine=True)\n",
       "    )\n",
       "    (fc_out): Linear(in_features=64, out_features=53, bias=False)\n",
       "  )\n",
       "  (v_head): Sequential(\n",
       "    (0): Dropout(p=0.1, inplace=False)\n",
       "    (1): Linear(in_features=64, out_features=1, bias=True)\n",
       "  )\n",
       ")"
      ]
     },
     "execution_count": 2,
     "metadata": {},
     "output_type": "execute_result"
    }
   ],
   "source": [
    "model_ppo = torch.load('ppo.model')\n",
    "model_ppo.to(device)\n",
    "model_ppo.eval()"
   ]
  },
  {
   "cell_type": "code",
   "execution_count": 3,
   "id": "92cfe5fa",
   "metadata": {},
   "outputs": [
    {
     "name": "stdout",
     "output_type": "stream",
     "text": [
      "S字母:6263= wtptrtptrtptrtptwE wtptrtptrtptrtptwE True\n",
      "S大写:8733= 叁肆玖叁伍肆玖叁伍肆玖叁伍肆玖叁贰E 叁肆玖叁伍肆玖叁伍肆玖叁伍肆玖叁贰E True\n",
      "S数字:9847= 39391939193919388E 39391939193919388E True\n",
      "S小写:7170= 二八六八二八六八二八六八二八六八〇E 二八六八二八六八二八六八二八六八〇E True\n",
      "S数字:4609= 18437843784378436E 18437843784378436E True\n",
      "S大写:4292= 壹柒壹陆玖柒壹陆玖柒壹陆玖柒壹陆捌E 壹柒壹陆玖柒壹陆玖柒壹陆玖柒壹陆捌E True\n",
      "S大写:9570= 叁捌贰捌叁捌贰捌叁捌贰捌叁捌贰捌零E 叁捌贰捌叁捌贰捌叁捌贰捌叁捌贰捌零E True\n",
      "S小写:6758= 二七〇三四七〇三四七〇三四七〇三二E 二七〇三四七〇三四七〇三四七〇三二E True\n",
      "S数字:3001= 12005200520052004E 12005200520052004E True\n",
      "S大写:9290= 叁柒壹陆叁柒壹陆叁柒壹陆叁柒壹陆零E 叁柒壹陆叁柒壹陆叁柒壹陆叁柒壹陆零E True\n",
      "S大写:9691= 叁捌柒陆柒捌柒陆柒捌柒陆柒捌柒陆肆E 叁捌柒陆柒捌柒陆柒捌柒陆柒捌柒陆肆E True\n",
      "S数字:5483= 21934193419341932E 21934193419341932E True\n",
      "S小写:4630= 一八五二一八五二一八五二一八五二〇E 一八五二一八五二一八五二一八五二〇E True\n",
      "S小写:7920= 三一六八三一六八三一六八三一六八〇E 三一六八三一六八三一六八三一六八〇E True\n",
      "S数字:5449= 21798179817981796E 21798179817981796E True\n",
      "S数字:4995= 19981998199819980E 19981998199819980E True\n",
      "S小写:5020= 二〇〇八二〇〇八二〇〇八二〇〇八〇E 二〇〇八二〇〇八二〇〇八二〇〇八〇E True\n",
      "S数字:4635= 18541854185418540E 18541854185418540E True\n",
      "S字母:4359= qureuureuureuureyE qureuureuureuureyE True\n",
      "S小写:5177= 二〇七一〇〇七一〇〇七一〇〇七〇八E 二〇七一〇〇七一〇〇七一〇〇七〇八E True\n",
      "S数字:4511= 18045804580458044E 18045804580458044E True\n",
      "S大写:7125= 贰捌伍零贰捌伍零贰捌伍零贰捌伍零零E 贰捌伍零贰捌伍零贰捌伍零贰捌伍零零E True\n",
      "S大写:4423= 壹柒陆玖叁柒陆玖叁柒陆玖叁柒陆玖贰E 壹柒陆玖叁柒陆玖叁柒陆玖叁柒陆玖贰E True\n",
      "S字母:9417= euyuquyuquyuquyyiE euyuquyuquyuquyyiE True\n",
      "S字母:1356= trwrtrwrtrwrtrwrEP trwrtrwrtrwrtrwrE False\n",
      "S字母:3232= qwowowowowowowowiE qwowowowowowowowiE True\n",
      "S大写:8155= 叁贰陆贰叁贰陆贰叁贰陆贰叁贰陆贰零E 叁贰陆贰叁贰陆贰叁贰陆贰叁贰陆贰零E True\n",
      "S字母:6909= wuyeiuyeiuyeiuyeyE wuyeiuyeiuyeiuyeyE True\n",
      "S字母:9312= euwtquwtquwtquwriE euwtquwtquwtquwriE True\n",
      "S小写:9062= 三六二五一六二五一六二五一六二四八E 三六二五一六二五一六二五一六二四八E True\n",
      "S数字:6179= 24718471847184716E 24718471847184716E True\n",
      "S数字:6677= 26710671067106708E 26710671067106708E True\n",
      "S字母:7249= wiooiiooiiooiiooyE wiooiiooiiooiiooyE True\n",
      "S小写:9768= 三九〇七五九〇七五九〇七五九〇七二E 三九〇七五九〇七五九〇七五九〇七二E True\n",
      "S大写:7283= 贰玖壹叁肆玖壹叁肆玖壹叁肆玖壹叁贰E 贰玖壹叁肆玖壹叁肆玖壹叁肆玖壹叁贰E True\n",
      "S小写:2620= 一〇四八一〇四八一〇四八一〇四八〇E 一〇四八一〇四八一〇四八一〇四八〇E True\n",
      "S字母:3441= qeuyteuyteuyteuyrE qeuyteuyteuyteuyrE True\n",
      "S大写:9124= 叁陆肆玖玖陆肆玖玖陆肆玖玖陆肆玖陆E 叁陆肆玖玖陆肆玖玖陆肆玖玖陆肆玖陆E True\n",
      "S大写:5566= 贰贰贰陆陆贰贰陆陆贰贰陆陆贰贰陆肆E 贰贰贰陆陆贰贰陆陆贰贰陆陆贰贰陆肆E True\n",
      "S数字:6359= 25438543854385436E 25438543854385436E True\n",
      "S字母:3388= qetteetteetteettwE qetteetteetteettwE True\n",
      "S大写:1768= 柒零柒贰柒零柒贰柒零柒贰柒零柒贰EP 柒零柒贰柒零柒贰柒零柒贰柒零柒贰E False\n",
      "S字母:3356= qerwterwterwterwrE qerwterwterwterwrE True\n",
      "S字母:8982= etoeqtoeqtoeqtowiE etoeqtoeqtoeqtowiE True\n",
      "S数字:4813= 19253925392539252E 19253925392539252E True\n",
      "S数字:3894= 15577557755775576E 15577557755775576E True\n",
      "S大写:9027= 叁陆壹壹壹陆壹壹壹陆壹壹壹陆壹零捌E 叁陆壹壹壹陆壹壹壹陆壹壹壹陆壹零捌E True\n",
      "S数字:6069= 24278427842784276E 24278427842784276E True\n",
      "S数字:7607= 30431043104310428E 30431043104310428E True\n",
      "S大写:6514= 贰陆零伍捌陆零伍捌陆零伍捌陆零伍陆E 贰陆零伍捌陆零伍捌陆零伍捌陆零伍陆E True\n",
      "S字母:1536= yqrryqrryqrryqrrEP yqrryqrryqrryqrrE False\n",
      "S数字:8031= 32127212721272124E 32127212721272124E True\n",
      "S字母:3576= qreptreptreptreprE qreptreptreptreprE True\n",
      "S小写:2877= 一一五〇九一五〇九一五〇九一五〇八E 一一五〇九一五〇九一五〇九一五〇八E True\n",
      "S小写:5620= 二二四八二二四八二二四八二二四八〇E 二二四八二二四八二二四八二二四八〇E True\n",
      "S字母:8237= ewotqwotqwotqworiE ewotqwotqwotqworiE True\n",
      "S数字:1517= 6068606860686068EP 6068606860686068E False\n",
      "S字母:9090= eyeyeyeyeyeyeyeypE eyeyeyeyeyeyeyeypE True\n",
      "S字母:5495= wqoiwqoiwqoiwqoipE wqoiwqoiwqoiwqoipE True\n",
      "S大写:9464= 叁柒捌伍玖柒捌伍玖柒捌伍玖柒捌伍陆E 叁柒捌伍玖柒捌伍玖柒捌伍玖柒捌伍陆E True\n",
      "S数字:1071= 4284428442844284EP 4284428442844284E False\n",
      "S小写:4101= 一六四〇五六四〇五六四〇五六四〇四E 一六四〇五六四〇五六四〇五六四〇四E True\n",
      "S大写:8502= 叁肆零壹壹肆零壹壹肆零壹壹肆零零捌E 叁肆零壹壹肆零壹壹肆零壹壹肆零零捌E True\n",
      "S字母:3139= qwttuwttuwttuwttyE qwttuwttuwttuwttyE True\n"
     ]
    },
    {
     "data": {
      "text/plain": [
       "0.921875"
      ]
     },
     "execution_count": 3,
     "metadata": {},
     "output_type": "execute_result"
    }
   ],
   "source": [
    "#随机一批数据\n",
    "_, input_ids, _ = tokenizer.get_batch_data(prefix=True)\n",
    "\n",
    "#切分成question和answer\n",
    "split = [i.index(tokenizer.encoder['=']) + 1 for i in input_ids]\n",
    "question = [input_ids[i][:split[i]] for i in range(len(input_ids))]\n",
    "answer = [input_ids[i][split[i]:] for i in range(len(input_ids))]\n",
    "\n",
    "#根据question生成predict\n",
    "input_ids = [torch.LongTensor(i).unsqueeze(0).to(device) for i in question]\n",
    "predict = [generate(model_ppo.model_gen, i) for i in input_ids]\n",
    "\n",
    "#裁剪,只要生成的部分\n",
    "predict = [p[0].tolist()[len(q):] for p, q in zip(predict, question)]\n",
    "\n",
    "#解码成文本\n",
    "question = [tokenizer.decode(i) for i in question]\n",
    "answer = [tokenizer.decode(i) for i in answer]\n",
    "predict = [tokenizer.decode(i) for i in predict]\n",
    "\n",
    "acc = 0\n",
    "for q, a, p in zip(question, answer, predict):\n",
    "    print(q, a, p, a == p)\n",
    "    if a == p:\n",
    "        acc += 1\n",
    "\n",
    "acc / len(question)"
   ]
  }
 ],
 "metadata": {
  "kernelspec": {
   "display_name": "LLM",
   "language": "python",
   "name": "python3"
  },
  "language_info": {
   "codemirror_mode": {
    "name": "ipython",
    "version": 3
   },
   "file_extension": ".py",
   "mimetype": "text/x-python",
   "name": "python",
   "nbconvert_exporter": "python",
   "pygments_lexer": "ipython3",
   "version": "3.10.13"
  }
 },
 "nbformat": 4,
 "nbformat_minor": 5
}
