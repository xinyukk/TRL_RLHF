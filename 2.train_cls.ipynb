{
 "cells": [
  {
   "cell_type": "code",
   "execution_count": 4,
   "id": "58e4f06d",
   "metadata": {},
   "outputs": [
    {
     "data": {
      "text/plain": [
       "['S__:9077=eyeqqyeqqyeqqyepiE',\n",
       " 'S__:4620=一八四八一八四八一八四八一八四八〇E',\n",
       " 'S__:6696=贰陆柒捌陆陆柒捌陆陆柒捌陆陆柒捌肆E',\n",
       " 'S__:8433=eeueteueteueteuewE',\n",
       " 'S__:2929=qquququququququqyE',\n",
       " 'S__:9695=三八七八三八七八三八七八三八七八〇E',\n",
       " 'S__:7559=三〇二三九〇二三九〇二三九〇二三六E',\n",
       " 'S__:5649=贰贰伍玖捌贰伍玖捌贰伍玖捌贰伍玖陆E',\n",
       " 'S__:1617=六四六八六四六八六四六八六四六八EP',\n",
       " 'S__:6562=二六二五〇六二五〇六二五〇六二四八E']"
      ]
     },
     "execution_count": 4,
     "metadata": {},
     "output_type": "execute_result"
    }
   ],
   "source": [
    "%run common.ipynb\n",
    "\n",
    "[tokenizer.decode(i) for i in tokenizer.get_batch_data(prefix=False)[1]][:10]"
   ]
  },
  {
   "cell_type": "code",
   "execution_count": 5,
   "id": "62aea6a1",
   "metadata": {
    "scrolled": true
   },
   "outputs": [],
   "source": [
    "model_cls = ModelCLS()"
   ]
  },
  {
   "cell_type": "code",
   "execution_count": 6,
   "id": "dbe0768c",
   "metadata": {},
   "outputs": [
    {
     "name": "stdout",
     "output_type": "stream",
     "text": [
      "0 0.28125\n",
      "S__:5855=werwwerwwerwwerwpE 1\n",
      "S__:9406=37627762776277624E 0\n",
      "100 1.0\n",
      "S__:4188=壹陆柒伍叁陆柒伍叁陆柒伍叁陆柒伍贰E 3\n",
      "S__:7110=二八四四二八四四二八四四二八四四〇E 2\n",
      "200 1.0\n",
      "S__:7647=30591059105910588E 0\n",
      "S__:6125=wrtpwrtpwrtpwrtppE 1\n",
      "300 1.0\n",
      "S__:8206=三二八二七二八二七二八二七二八二四E 2\n",
      "S__:8513=34055405540554052E 0\n",
      "400 1.0\n",
      "S__:8391=三三五六七三五六七三五六七三五六四E 2\n",
      "S__:2475=九九〇〇九九〇〇九九〇〇九九〇〇EP 2\n"
     ]
    }
   ],
   "source": [
    "optimizer = torch.optim.AdamW(params=model_cls.parameters(), lr=1e-4)\n",
    "criterion = torch.nn.CrossEntropyLoss()\n",
    "\n",
    "for epoch in range(500):\n",
    "    label, input_ids, attention_mask = tokenizer.get_batch_data(prefix=False)\n",
    "    label = torch.LongTensor(label).to(device)\n",
    "    input_ids = torch.LongTensor(input_ids).to(device)\n",
    "    attention_mask = torch.LongTensor(attention_mask).to(device)\n",
    "\n",
    "    logits = model_cls(input_ids=input_ids, attention_mask=attention_mask)\n",
    "\n",
    "    loss = criterion(logits, label)\n",
    "    loss.backward()\n",
    "    optimizer.step()\n",
    "    optimizer.zero_grad()\n",
    "\n",
    "    if epoch % 100 == 0:\n",
    "        logits = logits.argmax(1)\n",
    "        acc = (logits == label).sum().item() / len(label)\n",
    "        print(epoch, acc)\n",
    "\n",
    "        for i in range(2):\n",
    "            print(tokenizer.decode(input_ids[i].tolist()), logits[i].item())\n",
    "\n",
    "model_cls.to('cuda')\n",
    "torch.save(model_cls, 'cls.model')"
   ]
  }
 ],
 "metadata": {
  "kernelspec": {
   "display_name": "base",
   "language": "python",
   "name": "python3"
  },
  "language_info": {
   "codemirror_mode": {
    "name": "ipython",
    "version": 3
   },
   "file_extension": ".py",
   "mimetype": "text/x-python",
   "name": "python",
   "nbconvert_exporter": "python",
   "pygments_lexer": "ipython3",
   "version": "3.10.8"
  }
 },
 "nbformat": 4,
 "nbformat_minor": 5
}
